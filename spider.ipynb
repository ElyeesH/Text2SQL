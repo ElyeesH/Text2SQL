{
 "cells": [
  {
   "cell_type": "code",
   "execution_count": 3,
   "metadata": {},
   "outputs": [
    {
     "name": "stdout",
     "output_type": "stream",
     "text": [
      "<class 'pandas.core.frame.DataFrame'>\n",
      "RangeIndex: 1034 entries, 0 to 1033\n",
      "Data columns (total 6 columns):\n",
      " #   Column               Non-Null Count  Dtype \n",
      "---  ------               --------------  ----- \n",
      " 0   db_id                1034 non-null   object\n",
      " 1   query                1034 non-null   object\n",
      " 2   question             1034 non-null   object\n",
      " 3   query_toks           1034 non-null   object\n",
      " 4   query_toks_no_value  1034 non-null   object\n",
      " 5   question_toks        1034 non-null   object\n",
      "dtypes: object(6)\n",
      "memory usage: 48.6+ KB\n"
     ]
    }
   ],
   "source": [
    "import pandas as pd\n",
    "\n",
    "df_parquet = pd.read_parquet(\"validation-00000-of-00001.parquet\", engine=\"pyarrow\")\n",
    "df_parquet.info()"
   ]
  },
  {
   "cell_type": "code",
   "execution_count": 4,
   "metadata": {},
   "outputs": [
    {
     "name": "stdout",
     "output_type": "stream",
     "text": [
      "<class 'pandas.core.frame.DataFrame'>\n",
      "RangeIndex: 7000 entries, 0 to 6999\n",
      "Data columns (total 6 columns):\n",
      " #   Column               Non-Null Count  Dtype \n",
      "---  ------               --------------  ----- \n",
      " 0   db_id                7000 non-null   object\n",
      " 1   query                7000 non-null   object\n",
      " 2   question             7000 non-null   object\n",
      " 3   query_toks           7000 non-null   object\n",
      " 4   query_toks_no_value  7000 non-null   object\n",
      " 5   question_toks        7000 non-null   object\n",
      "dtypes: object(6)\n",
      "memory usage: 328.3+ KB\n"
     ]
    }
   ],
   "source": [
    "import pandas as pd\n",
    "\n",
    "df_parquet = pd.read_parquet(\"train-00000-of-00001.parquet\", engine=\"pyarrow\")\n",
    "df_parquet.info()"
   ]
  },
  {
   "cell_type": "code",
   "execution_count": null,
   "metadata": {},
   "outputs": [],
   "source": []
  }
 ],
 "metadata": {
  "kernelspec": {
   "display_name": "Python 3",
   "language": "python",
   "name": "python3"
  },
  "language_info": {
   "codemirror_mode": {
    "name": "ipython",
    "version": 3
   },
   "file_extension": ".py",
   "mimetype": "text/x-python",
   "name": "python",
   "nbconvert_exporter": "python",
   "pygments_lexer": "ipython3",
   "version": "3.12.3"
  }
 },
 "nbformat": 4,
 "nbformat_minor": 2
}
